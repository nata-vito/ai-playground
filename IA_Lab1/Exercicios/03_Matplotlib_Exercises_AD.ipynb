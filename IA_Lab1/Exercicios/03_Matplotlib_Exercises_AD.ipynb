{
  "cells": [
    {
      "cell_type": "markdown",
      "metadata": {
        "id": "rBVUqasErMms"
      },
      "source": [
        "# Exercícios"
      ]
    },
    {
      "cell_type": "markdown",
      "metadata": {
        "id": "NQgsD4y6rMmw"
      },
      "source": [
        "1. Importe as bibliotecas necessárias"
      ]
    },
    {
      "cell_type": "code",
      "source": [
        "import"
      ],
      "metadata": {
        "id": "x6bHJJ_PKUdq"
      },
      "execution_count": null,
      "outputs": []
    },
    {
      "cell_type": "markdown",
      "metadata": {
        "id": "g49ennD_rMmx"
      },
      "source": [
        "2. Crie os dados e plote-os em um objeto axes. Ajuste os rótulos e o título do gráfico."
      ]
    },
    {
      "cell_type": "code",
      "source": [
        "plt"
      ],
      "metadata": {
        "id": "-hLsYGcYKSsY"
      },
      "execution_count": null,
      "outputs": []
    },
    {
      "cell_type": "markdown",
      "metadata": {
        "id": "LhEUAgcfrMmy"
      },
      "source": [
        "3. Crie um objeto do tipo figure e coloque dois eixo no mesmo, localizados em \\[0, 0, 1, 1\\] e \\[0.2, 0.5, .2, .2\\]. Então plote os mesmos dados em ambos."
      ]
    },
    {
      "cell_type": "code",
      "execution_count": null,
      "metadata": {
        "id": "wwLP4l2HrMmy"
      },
      "outputs": [],
      "source": [
        "figure"
      ]
    },
    {
      "cell_type": "markdown",
      "metadata": {
        "id": "HvgSrUgurMmy"
      },
      "source": [
        "4. Crie dois gráficos em um mesmo figure."
      ]
    },
    {
      "cell_type": "code",
      "execution_count": null,
      "metadata": {
        "id": "ClrLmwjTrMmy"
      },
      "outputs": [],
      "source": [
        "subplots"
      ]
    }
  ],
  "metadata": {
    "kernelspec": {
      "display_name": "Python 3",
      "language": "python",
      "name": "python3"
    },
    "language_info": {
      "codemirror_mode": {
        "name": "ipython",
        "version": 3
      },
      "file_extension": ".py",
      "mimetype": "text/x-python",
      "name": "python",
      "nbconvert_exporter": "python",
      "pygments_lexer": "ipython3",
      "version": "3.9.5"
    },
    "colab": {
      "provenance": []
    }
  },
  "nbformat": 4,
  "nbformat_minor": 0
}