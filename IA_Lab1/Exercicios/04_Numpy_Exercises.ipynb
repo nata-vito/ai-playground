{
  "nbformat": 4,
  "nbformat_minor": 0,
  "metadata": {
    "kernelspec": {
      "display_name": "Python 3",
      "language": "python",
      "name": "python3"
    },
    "language_info": {
      "codemirror_mode": {
        "name": "ipython",
        "version": 3
      },
      "file_extension": ".py",
      "mimetype": "text/x-python",
      "name": "python",
      "nbconvert_exporter": "python",
      "pygments_lexer": "ipython3",
      "version": "3.9.5"
    },
    "colab": {
      "provenance": []
    }
  },
  "cells": [
    {
      "cell_type": "markdown",
      "metadata": {
        "id": "dsioWNoB8OBa"
      },
      "source": [
        "# Exercícios\n"
      ]
    },
    {
      "cell_type": "markdown",
      "metadata": {
        "id": "j7RBHIKZ8OBd"
      },
      "source": [
        "1. Importe NumPy como `np`"
      ]
    },
    {
      "cell_type": "code",
      "metadata": {
        "id": "pZZAuydA8OBe"
      },
      "source": [
        "F"
      ],
      "execution_count": null,
      "outputs": []
    },
    {
      "cell_type": "markdown",
      "metadata": {
        "id": "U2lOHOGk8OBe"
      },
      "source": [
        "2. Crie um array com 10 zeros"
      ]
    },
    {
      "cell_type": "code",
      "metadata": {
        "id": "lt0X0zjC8OBf"
      },
      "source": [
        "F"
      ],
      "execution_count": null,
      "outputs": []
    },
    {
      "cell_type": "markdown",
      "metadata": {
        "id": "D3WPRZjD8OBf"
      },
      "source": [
        "3. Crie um array com 10 'uns'"
      ]
    },
    {
      "cell_type": "code",
      "metadata": {
        "id": "kIaVTDIJ8OBf"
      },
      "source": [
        "F"
      ],
      "execution_count": null,
      "outputs": []
    },
    {
      "cell_type": "markdown",
      "metadata": {
        "id": "hfUNBDMS8OBf"
      },
      "source": [
        "4. Crie um array com 10 'cincos'"
      ]
    },
    {
      "cell_type": "code",
      "metadata": {
        "id": "zuJwnHU88OBf"
      },
      "source": [
        "F"
      ],
      "execution_count": null,
      "outputs": []
    },
    {
      "cell_type": "markdown",
      "metadata": {
        "id": "GHpsFznz8OBg"
      },
      "source": [
        "5. Crie um vetor de números inteiros de 10 ate 50"
      ]
    },
    {
      "cell_type": "code",
      "metadata": {
        "id": "Ib9Vt3ZN8OBg"
      },
      "source": [
        "F"
      ],
      "execution_count": null,
      "outputs": []
    },
    {
      "cell_type": "markdown",
      "metadata": {
        "id": "0HU-l-B78OBg"
      },
      "source": [
        "6. Crie um vetor com o numeros pares de 10 até 50"
      ]
    },
    {
      "cell_type": "code",
      "metadata": {
        "id": "A0cJ3iDu8OBg"
      },
      "source": [
        "F"
      ],
      "execution_count": null,
      "outputs": []
    },
    {
      "cell_type": "markdown",
      "metadata": {
        "id": "34mFZYeg8OBh"
      },
      "source": [
        "7. Crie uma matriz $3 \\times 3$ com os valores de 0 até 8"
      ]
    },
    {
      "cell_type": "code",
      "metadata": {
        "id": "2uHccDMO8OBh"
      },
      "source": [
        "F"
      ],
      "execution_count": null,
      "outputs": []
    },
    {
      "cell_type": "markdown",
      "metadata": {
        "id": "NjZGjPmK8OBh"
      },
      "source": [
        "8. Crie uma matriz identidade $7 \\times 7$"
      ]
    },
    {
      "cell_type": "code",
      "metadata": {
        "id": "CgAzDBXo8OBh"
      },
      "source": [
        "F"
      ],
      "execution_count": null,
      "outputs": []
    },
    {
      "cell_type": "markdown",
      "metadata": {
        "id": "9wzjB5is8OBh"
      },
      "source": [
        "9. Use numpy para gerar um número aleatório entre 0 e 1"
      ]
    },
    {
      "cell_type": "code",
      "metadata": {
        "id": "zkRYOppS8OBh"
      },
      "source": [
        "F"
      ],
      "execution_count": null,
      "outputs": []
    },
    {
      "cell_type": "markdown",
      "metadata": {
        "id": "O1m4fdu08OBi"
      },
      "source": [
        "10. Use o numpy para gerar 25 números aleatório de distribuição normal padrão (gaussiana com média $\\mu = 0$ e desvio padrão $\\sigma = 1$)"
      ]
    },
    {
      "cell_type": "code",
      "metadata": {
        "id": "nQlo9JN18OBi"
      },
      "source": [
        "F"
      ],
      "execution_count": null,
      "outputs": []
    },
    {
      "cell_type": "markdown",
      "metadata": {
        "id": "sZADK-Fk8OBi"
      },
      "source": [
        "11. Crie a matrix abaixo\n",
        "\n",
        "```python\n",
        "array([[0.01, 0.02, 0.03, 0.04, 0.05, 0.06, 0.07, 0.08, 0.09, 0.1 ],\n",
        "       [0.11, 0.12, 0.13, 0.14, 0.15, 0.16, 0.17, 0.18, 0.19, 0.2 ],\n",
        "       [0.21, 0.22, 0.23, 0.24, 0.25, 0.26, 0.27, 0.28, 0.29, 0.3 ],\n",
        "       [0.31, 0.32, 0.33, 0.34, 0.35, 0.36, 0.37, 0.38, 0.39, 0.4 ],\n",
        "       [0.41, 0.42, 0.43, 0.44, 0.45, 0.46, 0.47, 0.48, 0.49, 0.5 ],\n",
        "       [0.51, 0.52, 0.53, 0.54, 0.55, 0.56, 0.57, 0.58, 0.59, 0.6 ],\n",
        "       [0.61, 0.62, 0.63, 0.64, 0.65, 0.66, 0.67, 0.68, 0.69, 0.7 ],\n",
        "       [0.71, 0.72, 0.73, 0.74, 0.75, 0.76, 0.77, 0.78, 0.79, 0.8 ],\n",
        "       [0.81, 0.82, 0.83, 0.84, 0.85, 0.86, 0.87, 0.88, 0.89, 0.9 ],\n",
        "       [0.91, 0.92, 0.93, 0.94, 0.95, 0.96, 0.97, 0.98, 0.99, 1.  ]])\n",
        "```"
      ]
    },
    {
      "cell_type": "code",
      "source": [
        "F"
      ],
      "metadata": {
        "id": "js57WYnhLkb9"
      },
      "execution_count": null,
      "outputs": []
    },
    {
      "cell_type": "markdown",
      "metadata": {
        "id": "vmBTpxpK8OBj"
      },
      "source": [
        "12. Crie um array de 20 elementos igulmente espaçados entre 0 e 1:"
      ]
    },
    {
      "cell_type": "code",
      "metadata": {
        "id": "P-YRP_4c8OBj"
      },
      "source": [
        "F"
      ],
      "execution_count": null,
      "outputs": []
    },
    {
      "cell_type": "markdown",
      "metadata": {
        "id": "eVcKiaBz8OBj"
      },
      "source": [
        "13. Dada a matrix abaixo,\n",
        "\n",
        "```python\n",
        "array([[ 1,  2,  3,  4,  5],\n",
        "       [ 6,  7,  8,  9, 10],\n",
        "       [11, 12, 13, 14, 15],\n",
        "       [16, 17, 18, 19, 20],\n",
        "       [21, 22, 23, 24, 25]])\n",
        "```\n",
        "\n",
        "obtenha as seguintes matrizes por indexação e se necessário, reshape:\n",
        "*\n",
        "```python\n",
        "array([[12, 13, 14, 15],\n",
        "       [17, 18, 19, 20],\n",
        "       [22, 23, 24, 25]])\n",
        "```\n",
        "*\n",
        "```python\n",
        "array([[ 2],\n",
        "       [ 7],\n",
        "       [12]])\n",
        "```\n",
        "*\n",
        "```python\n",
        "array([21, 22, 23, 24, 25])\n",
        "```\n",
        "*\n",
        "```python\n",
        "array([[16, 17, 18, 19, 20],\n",
        "       [21, 22, 23, 24, 25]])\n",
        "```"
      ]
    },
    {
      "cell_type": "code",
      "metadata": {
        "id": "XXcVgq8i8OBj"
      },
      "source": [],
      "execution_count": null,
      "outputs": []
    },
    {
      "cell_type": "markdown",
      "metadata": {
        "id": "cu-fCr-R8OBk"
      },
      "source": [
        "14. Some todos os valores da matriz"
      ]
    },
    {
      "cell_type": "code",
      "metadata": {
        "id": "Akq-o2O08OBk"
      },
      "source": [
        "F"
      ],
      "execution_count": null,
      "outputs": []
    },
    {
      "cell_type": "markdown",
      "metadata": {
        "id": "bb6UZR728OBk"
      },
      "source": [
        "15. Some todas as colunas da matriz"
      ]
    },
    {
      "cell_type": "code",
      "source": [],
      "metadata": {
        "id": "XlZ7OzKdUKjU"
      },
      "execution_count": null,
      "outputs": []
    },
    {
      "cell_type": "markdown",
      "metadata": {
        "id": "xdx3HTqc8OBk"
      },
      "source": [
        "16. Calcule o desvio padrão por coluna"
      ]
    },
    {
      "cell_type": "code",
      "metadata": {
        "id": "boAPIUZb8OBl"
      },
      "source": [],
      "execution_count": null,
      "outputs": []
    }
  ]
}