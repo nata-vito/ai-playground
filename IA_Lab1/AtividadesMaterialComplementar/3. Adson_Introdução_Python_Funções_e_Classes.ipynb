{
  "cells": [
    {
      "cell_type": "markdown",
      "metadata": {
        "id": "MkaEraw6EamX"
      },
      "source": [
        "### Funções"
      ]
    },
    {
      "cell_type": "code",
      "execution_count": 1,
      "metadata": {
        "colab": {
          "base_uri": "https://localhost:8080/"
        },
        "id": "-u4_K35uF-al",
        "outputId": "c704d471-c293-4da4-8d41-467d861ff141"
      },
      "outputs": [
        {
          "name": "stdout",
          "output_type": "stream",
          "text": [
            "Inicio\n",
            "Olá!! Seja bem vindo\n",
            "Olá!! Seja bem vindo\n",
            "Vamos começar a aprender funções\n",
            "até a proxima\n",
            "Vamos começar a aprender funções\n",
            "até a proxima\n"
          ]
        }
      ],
      "source": [
        "def minhaprimeirafuncao():\n",
        "  print(\"Olá!! Seja bem vindo\")\n",
        "  text = 'Vamos começar a aprender funções'\n",
        "  des = 'até a proxima'\n",
        "  return text,des\n",
        "\n",
        "print(\"Inicio\")\n",
        "intro = minhaprimeirafuncao()\n",
        "intro1,despede = minhaprimeirafuncao()\n",
        "print(intro[0])\n",
        "print(intro[1])\n",
        "print(intro1)\n",
        "print(despede)\n"
      ]
    },
    {
      "cell_type": "code",
      "execution_count": 8,
      "metadata": {
        "id": "x9KSDP9NH0sM"
      },
      "outputs": [],
      "source": [
        "def hypo_a(cat1=0,cat2=0, *args): # args opcional\n",
        "  h = (cat1**2 + cat2**2)**0.5\n",
        "  print(args)\n",
        "  return h\n",
        "\n",
        "def salario(*rec):\n",
        "  i=0\n",
        "  while i < len(rec[0]):\n",
        "    print(f'Func {i}')\n",
        "    i +=1"
      ]
    },
    {
      "cell_type": "code",
      "execution_count": 3,
      "metadata": {
        "colab": {
          "base_uri": "https://localhost:8080/"
        },
        "id": "Mgz3AL72P-sV",
        "outputId": "59730c27-2c87-4b51-caa7-95351ece49d2"
      },
      "outputs": [
        {
          "name": "stdout",
          "output_type": "stream",
          "text": [
            "Func 0\n",
            "Func 1\n",
            "Func 2\n",
            "Func 3\n"
          ]
        }
      ],
      "source": [
        "nomes = ['Adson', 'Ana','Jose','a']\n",
        "salario(nomes)"
      ]
    },
    {
      "cell_type": "code",
      "execution_count": 9,
      "metadata": {
        "colab": {
          "base_uri": "https://localhost:8080/"
        },
        "id": "GMB4OwGuGGq4",
        "outputId": "a2927e4c-be16-41e8-b19e-cfd2c7b63904"
      },
      "outputs": [
        {
          "name": "stdout",
          "output_type": "stream",
          "text": [
            "([1, 2, 3, 4, 5, 6, 7], 'Por favor me fale a hipotenuza', 7, 8, 66, 'adson')\n",
            "O valor da hipotenuza é 5.0\n"
          ]
        }
      ],
      "source": [
        "c1 = int(input(\"Informe o primeiro cateto: \"))\n",
        "c2 = int(input(\"Informe o segundo cateto: \"))\n",
        "msg = \"Por favor me fale a hipotenuza\"\n",
        "li = [1,2,3,4,5,6,7]\n",
        "\n",
        "res = hypo_a(c1,c2,li,msg,7,8,66,'adson')\n",
        "\n",
        "print(f'O valor da hipotenuza é {res}')"
      ]
    },
    {
      "cell_type": "code",
      "execution_count": 10,
      "metadata": {
        "id": "F_bD4GdnVqp8"
      },
      "outputs": [],
      "source": [
        "def hypo(cat1,cat2):\n",
        "  h = (cat1**2 + cat2**2)**0.5\n",
        "  return h\n",
        "\n",
        "def add(x):\n",
        "  r = x+10\n",
        "  return r\n",
        "\n",
        "lm = lambda cat1,cat2: (cat1**2 + cat2**2)**0.5\n"
      ]
    },
    {
      "cell_type": "code",
      "execution_count": 11,
      "metadata": {
        "colab": {
          "base_uri": "https://localhost:8080/"
        },
        "id": "BCa3j6gUXVeA",
        "outputId": "01d86293-9c91-4ac9-ee6a-dac74568ab46"
      },
      "outputs": [
        {
          "data": {
            "text/plain": [
              "[1, 2, 3, 4, 5, 6, 7]"
            ]
          },
          "execution_count": 11,
          "metadata": {},
          "output_type": "execute_result"
        }
      ],
      "source": [
        "li = [1, 2, 3, 4, 5, 6, 7]\n",
        "li"
      ]
    },
    {
      "cell_type": "code",
      "execution_count": 12,
      "metadata": {
        "colab": {
          "base_uri": "https://localhost:8080/"
        },
        "id": "Y5-MKn6Bkbhq",
        "outputId": "06539aac-dd39-4543-ed74-707feb291162"
      },
      "outputs": [
        {
          "name": "stdout",
          "output_type": "stream",
          "text": [
            "lista [11, 12, 13, 14, 15, 16, 17]\n"
          ]
        }
      ],
      "source": [
        "s=0\n",
        "for i in range(len(li)):\n",
        "   li[i] += 10\n",
        "print('lista',li)"
      ]
    },
    {
      "cell_type": "code",
      "execution_count": 13,
      "metadata": {
        "colab": {
          "base_uri": "https://localhost:8080/"
        },
        "id": "XFEth9YbWloZ",
        "outputId": "9f928f48-d291-4f3c-802b-16e5bf5e6e3b"
      },
      "outputs": [
        {
          "data": {
            "text/plain": [
              "[21, 22, 23, 24, 25, 26, 27]"
            ]
          },
          "execution_count": 13,
          "metadata": {},
          "output_type": "execute_result"
        }
      ],
      "source": [
        "list(map(add,li))"
      ]
    },
    {
      "cell_type": "code",
      "execution_count": 15,
      "metadata": {
        "colab": {
          "base_uri": "https://localhost:8080/"
        },
        "id": "OByd3xZgUJ0z",
        "outputId": "694d7177-67de-4b5d-bed1-9a44f14ffbf8"
      },
      "outputs": [
        {
          "name": "stdout",
          "output_type": "stream",
          "text": [
            "(20, 5.0)\n",
            "(90, 22.5)\n",
            "16\n",
            "4.0\n"
          ]
        }
      ],
      "source": [
        "#Função que retorna 2 valores\n",
        "\n",
        "def minha_funcao(numero): #parâmetro\n",
        "   x = numero * 2\n",
        "   y = numero / 2\n",
        "   return x, y\n",
        "\n",
        "n1 = 10\n",
        "print(minha_funcao(n1))\n",
        "\n",
        "print(minha_funcao(45))\n",
        "\n",
        "dobro, metade = minha_funcao(8)\n",
        "print(dobro)\n",
        "print(metade)"
      ]
    },
    {
      "cell_type": "code",
      "execution_count": 16,
      "metadata": {
        "colab": {
          "base_uri": "https://localhost:8080/"
        },
        "id": "uT7lzjG7UNrh",
        "outputId": "0ecb2c3c-8141-4efc-9fb3-eea55b6f44f3"
      },
      "outputs": [
        {
          "name": "stdout",
          "output_type": "stream",
          "text": [
            "6.0\n",
            "3.0\n"
          ]
        }
      ],
      "source": [
        "#Exemplo de função que recebe dois parâmetros\n",
        "\n",
        "def media(x, y):  #parâmetros\n",
        "   m = (x + y)/2\n",
        "   return m\n",
        "\n",
        "num1 = 4\n",
        "num2 = 8\n",
        "\n",
        "print(media(num1, num2))\n",
        "\n",
        "mediafinal = media(2, 4)\n",
        "print(mediafinal)"
      ]
    },
    {
      "cell_type": "code",
      "execution_count": 17,
      "metadata": {
        "colab": {
          "base_uri": "https://localhost:8080/"
        },
        "id": "pLR-EVi-GqMh",
        "outputId": "9a2a9ed0-109a-4f85-e251-6b7beffc6a6a"
      },
      "outputs": [
        {
          "name": "stdout",
          "output_type": "stream",
          "text": [
            "Olá adson, seja bem-vindo(a)!!!\n"
          ]
        }
      ],
      "source": [
        "#Exemplo de função que não retorna valores\n",
        "\n",
        "def imprime_msg(var):\n",
        "    print(\"Olá %s, seja bem-vindo(a)!!!\" % var)\n",
        "\n",
        "\n",
        "nome = input(\"Digite seu nome: \")\n",
        "imprime_msg(nome)"
      ]
    },
    {
      "cell_type": "code",
      "execution_count": 18,
      "metadata": {
        "colab": {
          "base_uri": "https://localhost:8080/"
        },
        "id": "fKpZio0sp1U_",
        "outputId": "812e0bfb-2346-4097-964a-d3e8954e3d5e"
      },
      "outputs": [
        {
          "name": "stdout",
          "output_type": "stream",
          "text": [
            "Resultado Soma: 15\n"
          ]
        }
      ],
      "source": [
        "#Função Lambda (anônima)\n",
        "\n",
        "soma_lambda = lambda n1, n2: n1 + n2\n",
        "\n",
        "X = 10\n",
        "Y = 5\n",
        "\n",
        "result = soma_lambda(X,Y)\n",
        "print ('Resultado Soma:', result)"
      ]
    },
    {
      "cell_type": "code",
      "execution_count": 20,
      "metadata": {
        "colab": {
          "base_uri": "https://localhost:8080/"
        },
        "id": "13sB6vDOaFnW",
        "outputId": "8e2a79ba-c6d3-4236-821b-b41f5dcf8013"
      },
      "outputs": [
        {
          "name": "stdout",
          "output_type": "stream",
          "text": [
            "Oops! Você deve inserir um numero!\n",
            "Oops! Você deve inserir um numero!\n",
            "Oops! Você deve inserir um numero!\n",
            "Oops! Você deve inserir um numero!\n",
            "9\n"
          ]
        }
      ],
      "source": [
        "x=y=0\n",
        "x = int(input(\"X \"))\n",
        "\n",
        "while 1:\n",
        "  try:\n",
        "    y= int(input(\"y \"))\n",
        "    break\n",
        "  except:\n",
        "    print(\"Oops! Você deve inserir um numero!\")\n",
        "\n",
        "print(x+y)"
      ]
    },
    {
      "cell_type": "markdown",
      "metadata": {
        "id": "h7ZJ0xmAAEW2"
      },
      "source": [
        "# Atividade Extra - Sala"
      ]
    },
    {
      "cell_type": "markdown",
      "metadata": {
        "id": "-BInX3QEAI-2"
      },
      "source": [
        "João pediu ao seu filho que pegasse R\\$ 100 na gaveta e que abastecesse o carro com R\\$ 40 e comprasse R\\$ 40 carne.\n",
        "\n",
        "Condições!\n",
        "\n",
        "(1) Posto fechado, volta para casa e deixa troco na mesa\n",
        "\n",
        "(2) Posto aberto, açougue aberto, deixa troco na mesa\n",
        "\n",
        "(3) Posto aberto, açougue fechado, deixa troco na mesa\n",
        "\n",
        "Impedimentos!\n",
        "\n",
        "(1) Se mãe falou não, só compra carne\n",
        "\n",
        "(2) Se pai mantém a ordem, o filho deve fazer tudo\n",
        "\n",
        "Crie uma função que faça os calculos e mostre o troco."
      ]
    },
    {
      "cell_type": "code",
      "execution_count": null,
      "metadata": {
        "colab": {
          "base_uri": "https://localhost:8080/"
        },
        "id": "5VNUwNsJADkY",
        "outputId": "123e9898-a67e-4d15-ff93-62b0c05a0594"
      },
      "outputs": [
        {
          "name": "stdout",
          "output_type": "stream",
          "text": [
            "Comprei tudo sem brigas! \n",
            "O troco foi tal 20\n"
          ]
        }
      ],
      "source": []
    },
    {
      "cell_type": "markdown",
      "metadata": {
        "id": "Do0X48b4MzH6"
      },
      "source": [
        "# Atividade Extra 2\n",
        "\n",
        "Você é responsavél pelo castrado e verificação de bonus de 3 funcionarios.\n",
        "\n",
        "Bonificação:\n",
        "\n",
        "(1) Por setor \\{adm=0.15,com=0.2,prod=0.40}\n",
        "\n",
        "(2) Não pode ter mais que 3 faltas no periodo\n",
        "\n",
        "(3) bonificação em cima do salário base.\n",
        "\n",
        "Que seja construido um interface para usuario que deve receber:\n",
        "\n",
        "(1) Nome, setor, Sal.Base, Numero faltas\n",
        "\n",
        "Imprimar o salario e o bonus de cada funcionario, garanta que os dados sejam inseridos corretamente (conversão do dado)\n",
        "\n",
        "Use Função, lista, dicionario, tratamento de string."
      ]
    },
    {
      "cell_type": "code",
      "execution_count": null,
      "metadata": {
        "colab": {
          "base_uri": "https://localhost:8080/"
        },
        "id": "wKRMIigYOCKp",
        "outputId": "fe7420f8-ba65-4d1e-c5dd-47e6a36a79a6"
      },
      "outputs": [
        {
          "name": "stdout",
          "output_type": "stream",
          "text": [
            "Digite o seu nome - 0: adson\n",
            "Digite o seu setor - 0: 1000\n",
            " Você deve escolher entre ['adm', 'prod', 'com'] tente novamente\n",
            "Digite o seu setor - 0: prod\n",
            "Digite o seu salário - 0: 1000\n",
            "Digite quant. faltas- 0: 0\n",
            "O adson | Setor prod | Falta 0 | SalNOVO (1000.0, 1400.0) | Bonus 0.4\n"
          ]
        }
      ],
      "source": []
    },
    {
      "cell_type": "markdown",
      "metadata": {
        "id": "UsahL7p2UrK5"
      },
      "source": [
        "### Classes"
      ]
    },
    {
      "cell_type": "code",
      "execution_count": 21,
      "metadata": {
        "id": "ccRC5ul3f5TN"
      },
      "outputs": [],
      "source": [
        "class Animal:\n",
        "  def __init__(self, tamanho,peso,idade,*args):\n",
        "    self.tamanho = tamanho\n",
        "    self.peso = peso\n",
        "    self.idade = idade\n",
        "  # def add(self, x):\n",
        "  #   self.tamanho.append(x)\n",
        "\n",
        "  def fazerBarulho(self, x='barulho'):\n",
        "    print(x)\n",
        "  def comer(self, x='come'):\n",
        "    print(x)\n",
        "  def dormir(self, x='dorme'):\n",
        "    print(x)\n",
        "  def vaguear(self, x='vag'):\n",
        "    print(x)\n",
        "\n",
        "class Felino(Animal):\n",
        "  def fazerBarulho(self, x='miando'):\n",
        "    print(x)\n",
        "\n",
        "class Canino(Animal):\n",
        "  def fazerBarulho(self, x='latindo'):\n",
        "    print(x)\n"
      ]
    },
    {
      "cell_type": "code",
      "execution_count": 22,
      "metadata": {
        "colab": {
          "base_uri": "https://localhost:8080/"
        },
        "id": "9p6DUp8whde9",
        "outputId": "19346af0-bf6c-4f95-ea97-c1417f9020cc"
      },
      "outputs": [
        {
          "name": "stdout",
          "output_type": "stream",
          "text": [
            "miando\n"
          ]
        }
      ],
      "source": [
        "rex = Felino(1.5,35,4)\n",
        "rex.fazerBarulho()"
      ]
    },
    {
      "cell_type": "code",
      "execution_count": 23,
      "metadata": {
        "colab": {
          "base_uri": "https://localhost:8080/"
        },
        "id": "x6QQPHmuiH-i",
        "outputId": "c7a5ad83-c5aa-4309-ab8b-f86339c334b3"
      },
      "outputs": [
        {
          "name": "stdout",
          "output_type": "stream",
          "text": [
            "latindo\n"
          ]
        }
      ],
      "source": [
        "rex1 = Canino(1.5,35,8)\n",
        "rex1.fazerBarulho()"
      ]
    },
    {
      "cell_type": "code",
      "execution_count": 24,
      "metadata": {
        "colab": {
          "base_uri": "https://localhost:8080/"
        },
        "id": "r49PJD84id2z",
        "outputId": "9fa2cd59-9b15-45fd-da1b-87a29847851b"
      },
      "outputs": [
        {
          "name": "stdout",
          "output_type": "stream",
          "text": [
            "latir\n"
          ]
        }
      ],
      "source": [
        "rex1.fazerBarulho('latir')"
      ]
    },
    {
      "cell_type": "code",
      "execution_count": 25,
      "metadata": {
        "id": "B7-JEo7pg0YU"
      },
      "outputs": [],
      "source": [
        "class Funcionario:\n",
        "\n",
        "  def __init__(self, nome,cargo, setor,base_sal):\n",
        "    self.nome = nome\n",
        "    self.cargo = cargo\n",
        "    self.setor = setor\n",
        "    self.basesal = base_sal\n",
        "\n",
        "  def bonus(self,falta):\n",
        "    bn={'adm':0.15,'com':0.20,'prod':0.40}\n",
        "    if falta > 3:\n",
        "      print('Você não terá bonus!')\n",
        "    else:\n",
        "      print(f'Você terá bonus! | {bn[self.setor]}')\n",
        "\n"
      ]
    },
    {
      "cell_type": "code",
      "execution_count": 26,
      "metadata": {
        "id": "DGyaQ2oN2ZRH"
      },
      "outputs": [],
      "source": [
        "func0 = Funcionario(\"Adson\",\"eng\",\"adm\",1000)"
      ]
    },
    {
      "cell_type": "code",
      "execution_count": 27,
      "metadata": {
        "colab": {
          "base_uri": "https://localhost:8080/",
          "height": 35
        },
        "id": "tfhaGldX22ae",
        "outputId": "94c09f52-e703-456c-825e-0cbbf4150a04"
      },
      "outputs": [
        {
          "data": {
            "text/plain": [
              "'Adson'"
            ]
          },
          "execution_count": 27,
          "metadata": {},
          "output_type": "execute_result"
        }
      ],
      "source": [
        "func0.nome"
      ]
    },
    {
      "cell_type": "code",
      "execution_count": 28,
      "metadata": {
        "id": "0lmC0VJf3CZV"
      },
      "outputs": [],
      "source": [
        "func1 = Funcionario('Andre', 'Engenheiro','prod',3000)"
      ]
    },
    {
      "cell_type": "code",
      "execution_count": 29,
      "metadata": {
        "colab": {
          "base_uri": "https://localhost:8080/",
          "height": 35
        },
        "id": "g_six7H83E2t",
        "outputId": "a1d8eb8c-ae39-4cae-d082-c4a484bce6c2"
      },
      "outputs": [
        {
          "data": {
            "text/plain": [
              "'Andre'"
            ]
          },
          "execution_count": 29,
          "metadata": {},
          "output_type": "execute_result"
        }
      ],
      "source": [
        "func1.nome"
      ]
    },
    {
      "cell_type": "code",
      "execution_count": 30,
      "metadata": {
        "colab": {
          "base_uri": "https://localhost:8080/"
        },
        "id": "FmTG6r6m3bDV",
        "outputId": "0a3adecd-23e4-4259-f98b-4ec633b023f6"
      },
      "outputs": [
        {
          "name": "stdout",
          "output_type": "stream",
          "text": [
            "Você terá bonus! | 0.4\n"
          ]
        }
      ],
      "source": [
        "func1.bonus(0)"
      ]
    },
    {
      "cell_type": "code",
      "execution_count": 31,
      "metadata": {
        "colab": {
          "base_uri": "https://localhost:8080/",
          "height": 35
        },
        "id": "JlWgbFxx3kxA",
        "outputId": "c4337a86-5aea-4c3f-90c4-a6c7df264f4a"
      },
      "outputs": [
        {
          "data": {
            "text/plain": [
              "'prod'"
            ]
          },
          "execution_count": 31,
          "metadata": {},
          "output_type": "execute_result"
        }
      ],
      "source": [
        "func1.setor"
      ]
    },
    {
      "cell_type": "code",
      "execution_count": null,
      "metadata": {
        "id": "hQdXluKdh6Zj"
      },
      "outputs": [],
      "source": [
        "func1 = Funcionario('Andre', 'Engenheiro','prod',3000)\n",
        "func2 = Funcionario('Lucas', 'Vendedor','com',2000)\n",
        "func3 = Funcionario('Ana', 'Gestor','adm',1000)"
      ]
    },
    {
      "cell_type": "code",
      "execution_count": null,
      "metadata": {
        "colab": {
          "base_uri": "https://localhost:8080/",
          "height": 36
        },
        "id": "OoJedJdIiVrV",
        "outputId": "95104657-d27c-4aaa-b510-2216bee44573"
      },
      "outputs": [
        {
          "data": {
            "application/vnd.google.colaboratory.intrinsic+json": {
              "type": "string"
            },
            "text/plain": [
              "'Andre'"
            ]
          },
          "execution_count": 95,
          "metadata": {},
          "output_type": "execute_result"
        }
      ],
      "source": [
        "func1.nome"
      ]
    },
    {
      "cell_type": "code",
      "execution_count": null,
      "metadata": {
        "colab": {
          "base_uri": "https://localhost:8080/"
        },
        "id": "hNq42ZyEisRC",
        "outputId": "627d58ef-2f37-4855-bbe2-199552810feb"
      },
      "outputs": [
        {
          "name": "stdout",
          "output_type": "stream",
          "text": [
            "Você terá bonus! | 0.4\n"
          ]
        }
      ],
      "source": [
        "func1.bonus(3)"
      ]
    },
    {
      "cell_type": "markdown",
      "metadata": {
        "id": "dSQtQphQkqVy"
      },
      "source": [
        "**Exercícios**\n",
        "\n",
        "\n",
        "1. Escreva uma função que recebe uma lista de números e calcula a sua média.\n",
        "\n",
        "2. Crie uma classe Animais com as propriedades nome, raça e ano de nascimento e que tenha um método para calcular a idade (anos) dos animais. Instancie os objetos gato, cachorro e passarinho."
      ]
    },
    {
      "cell_type": "code",
      "execution_count": null,
      "metadata": {
        "id": "Dya9Vj_Z1K0q"
      },
      "outputs": [],
      "source": []
    }
  ],
  "metadata": {
    "colab": {
      "provenance": []
    },
    "kernelspec": {
      "display_name": "env_aula1",
      "language": "python",
      "name": "python3"
    },
    "language_info": {
      "codemirror_mode": {
        "name": "ipython",
        "version": 3
      },
      "file_extension": ".py",
      "mimetype": "text/x-python",
      "name": "python",
      "nbconvert_exporter": "python",
      "pygments_lexer": "ipython3",
      "version": "3.12.9"
    }
  },
  "nbformat": 4,
  "nbformat_minor": 0
}
