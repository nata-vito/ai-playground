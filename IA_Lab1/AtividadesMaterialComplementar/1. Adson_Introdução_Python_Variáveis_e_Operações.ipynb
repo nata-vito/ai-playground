{
  "cells": [
    {
      "cell_type": "markdown",
      "metadata": {
        "id": "QGYr7MlqeSlC"
      },
      "source": [
        "**Comando em Python utilizado para exibir texto na tela**"
      ]
    },
    {
      "cell_type": "code",
      "execution_count": 1,
      "metadata": {
        "colab": {
          "base_uri": "https://localhost:8080/"
        },
        "id": "kjUvtIxHeF1I",
        "outputId": "2de58752-bd43-4112-8665-980f86ff88bb"
      },
      "outputs": [
        {
          "name": "stdout",
          "output_type": "stream",
          "text": [
            "Olá Mundo, que otimo dia!!!\n",
            "Olá Mundo!!!\n"
          ]
        }
      ],
      "source": [
        "print('Olá Mundo, que otimo dia!!!') #string\n",
        "\n",
        "print(\"Olá Mundo!!!\") #o python aceita \" '"
      ]
    },
    {
      "cell_type": "markdown",
      "metadata": {
        "id": "IzI3pZyWejSe"
      },
      "source": [
        "**Variáveis**"
      ]
    },
    {
      "cell_type": "code",
      "execution_count": 2,
      "metadata": {
        "id": "3uMisHdofqPU"
      },
      "outputs": [],
      "source": [
        "a = 1  #int               #Nome de variáveis não podem começar com um número\n",
        "b = 3.2 #float\n",
        "nome = \"Aristoteles\"  #str             #Linguagem dinamicamente tipada\n",
        "curso_py = 'Curso Python'\n",
        "s2 = 234"
      ]
    },
    {
      "cell_type": "code",
      "execution_count": 3,
      "metadata": {
        "colab": {
          "base_uri": "https://localhost:8080/"
        },
        "id": "-CB0IpKpgCnI",
        "outputId": "4b0afbb7-1e0c-41a0-dec8-4399cd063510"
      },
      "outputs": [
        {
          "name": "stdout",
          "output_type": "stream",
          "text": [
            "a\n",
            "1\n",
            "3.2\n",
            "Aristoteles\n"
          ]
        }
      ],
      "source": [
        "print('a')\n",
        "print(a)\n",
        "print(b)\n",
        "print(nome)"
      ]
    },
    {
      "cell_type": "code",
      "execution_count": 4,
      "metadata": {
        "colab": {
          "base_uri": "https://localhost:8080/"
        },
        "id": "HS_203IggaAk",
        "outputId": "0000d84f-c5e2-4572-fe32-c85b6b4dc1be"
      },
      "outputs": [
        {
          "name": "stdout",
          "output_type": "stream",
          "text": [
            "<class 'int'>\n",
            "<class 'float'>\n",
            "<class 'str'>\n"
          ]
        }
      ],
      "source": [
        "print(type(a))\n",
        "print(type(b))\n",
        "print(type(nome))"
      ]
    },
    {
      "cell_type": "code",
      "execution_count": 5,
      "metadata": {
        "colab": {
          "base_uri": "https://localhost:8080/"
        },
        "id": "JB1OUpAZlSYu",
        "outputId": "cc5ed2aa-2b17-4abb-a30f-92e40bb40c9c"
      },
      "outputs": [
        {
          "name": "stdout",
          "output_type": "stream",
          "text": [
            "Bola\n",
            "Viagem\n",
            "Número\n",
            "1\n"
          ]
        }
      ],
      "source": [
        "#Atribuição de variáveis em uma mesma linha\n",
        "x, y, z,i = \"Bola\", \"Viagem\", \"Número\", 1\n",
        "print(x)\n",
        "print(y)\n",
        "print(z)\n",
        "print(i)"
      ]
    },
    {
      "cell_type": "code",
      "execution_count": 6,
      "metadata": {
        "colab": {
          "base_uri": "https://localhost:8080/"
        },
        "id": "tarD7k3Slm34",
        "outputId": "600f533a-c2d0-4b8a-8db1-a362fffd4190"
      },
      "outputs": [
        {
          "name": "stdout",
          "output_type": "stream",
          "text": [
            "11\n",
            "<class 'str'>\n",
            "<class 'float'>\n"
          ]
        }
      ],
      "source": [
        "p, q, r = 11, \"Cachorro\", 3.2\n",
        "print(p)\n",
        "print(type(q))\n",
        "print(type(r))"
      ]
    },
    {
      "cell_type": "code",
      "execution_count": 7,
      "metadata": {
        "colab": {
          "base_uri": "https://localhost:8080/"
        },
        "id": "qmwllScdlzDR",
        "outputId": "75a496c0-6f7e-4f35-810c-a14d582c66ef"
      },
      "outputs": [
        {
          "name": "stdout",
          "output_type": "stream",
          "text": [
            "100\n",
            "100\n",
            "100\n"
          ]
        }
      ],
      "source": [
        "#Atribuição de um mesmo valor para váriáveis\n",
        "t = u = v = 100\n",
        "print(t)\n",
        "print(u)\n",
        "print(v)"
      ]
    },
    {
      "cell_type": "code",
      "execution_count": 8,
      "metadata": {
        "colab": {
          "base_uri": "https://localhost:8080/"
        },
        "id": "1xTNz-TRFPpv",
        "outputId": "aa196a78-d3b3-47a8-de9a-c65f17a36f25"
      },
      "outputs": [
        {
          "name": "stdout",
          "output_type": "stream",
          "text": [
            "Meu nome é Luisa Pereira\n"
          ]
        }
      ],
      "source": [
        "#Diferenciação de maiúsculas e minúsculas em Python\n",
        "\n",
        "Nome = 'Luisa'\n",
        "Sobrenome = 'Pereira'\n",
        "\n",
        "print('Meu nome é', Nome, Sobrenome) #Case Sensitive"
      ]
    },
    {
      "cell_type": "markdown",
      "metadata": {
        "id": "8IEZ5p3oGUmX"
      },
      "source": [
        "**Palavras reservadas**"
      ]
    },
    {
      "cell_type": "markdown",
      "metadata": {
        "id": "m-YC9XhhGXYs"
      },
      "source": [
        "![image.png](data:image/png;base64,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)"
      ]
    },
    {
      "cell_type": "markdown",
      "metadata": {
        "id": "pansKC0PvwVA"
      },
      "source": [
        "**Lendo valores de entrada**"
      ]
    },
    {
      "cell_type": "code",
      "execution_count": 9,
      "metadata": {
        "colab": {
          "base_uri": "https://localhost:8080/"
        },
        "id": "CESjknvhD_sp",
        "outputId": "30b62220-c8dc-420e-e018-6884414be4dc"
      },
      "outputs": [
        {
          "name": "stdout",
          "output_type": "stream",
          "text": [
            "Adson\n"
          ]
        }
      ],
      "source": [
        "usuario = 'Adson'\n",
        "print(usuario)"
      ]
    },
    {
      "cell_type": "code",
      "execution_count": 10,
      "metadata": {
        "colab": {
          "base_uri": "https://localhost:8080/"
        },
        "id": "kLrxGgdEvznC",
        "outputId": "e96d2227-e7a7-4002-d6fc-aca26b4b677f"
      },
      "outputs": [],
      "source": [
        "usuario = input(\"Digite seu nome: \")"
      ]
    },
    {
      "cell_type": "code",
      "execution_count": 11,
      "metadata": {
        "colab": {
          "base_uri": "https://localhost:8080/"
        },
        "id": "_9_KsVL4MAlW",
        "outputId": "b4f8342e-c8e4-40ec-ff07-1513f1274a2d"
      },
      "outputs": [
        {
          "name": "stdout",
          "output_type": "stream",
          "text": [
            "O nome digitado é: adson\n"
          ]
        }
      ],
      "source": [
        "print(\"O nome digitado é:\", usuario)"
      ]
    },
    {
      "cell_type": "code",
      "execution_count": 12,
      "metadata": {
        "colab": {
          "base_uri": "https://localhost:8080/"
        },
        "id": "mH3swrdLMZX6",
        "outputId": "99f23f83-d625-4e36-9ca2-4aaf3e2771bc"
      },
      "outputs": [
        {
          "name": "stdout",
          "output_type": "stream",
          "text": [
            "A soma dos numeros é:  3\n",
            "<class 'int'>\n",
            "<class 'int'>\n"
          ]
        }
      ],
      "source": [
        "#Input recebe str\n",
        "n1 = input(\"Digite um número:\")\n",
        "n2 = int(input(\"Digite outro número:\"))\n",
        "n1 = int(n1)\n",
        "\n",
        "print(\"A soma dos numeros é: \",n1+int(n2))\n",
        "#Verificando o tipo de dados\n",
        "print(type(n1))\n",
        "print(type(n2))\n"
      ]
    },
    {
      "cell_type": "code",
      "execution_count": 13,
      "metadata": {
        "colab": {
          "base_uri": "https://localhost:8080/"
        },
        "id": "yLkpfCrqJX4z",
        "outputId": "074db9c6-0a1a-43ca-a453-100d60fd187d"
      },
      "outputs": [
        {
          "data": {
            "text/plain": [
              "False"
            ]
          },
          "execution_count": 13,
          "metadata": {},
          "output_type": "execute_result"
        }
      ],
      "source": [
        "float(1)\n",
        "\n",
        "bool(1) # True\n",
        "bool(0) # False"
      ]
    },
    {
      "cell_type": "code",
      "execution_count": 14,
      "metadata": {
        "colab": {
          "base_uri": "https://localhost:8080/"
        },
        "id": "DqGnshWoOjGa",
        "outputId": "a9a72fd4-3601-4e51-bcd3-d0426e02c597"
      },
      "outputs": [
        {
          "name": "stdout",
          "output_type": "stream",
          "text": [
            "<class 'int'>\n",
            "<class 'int'>\n",
            "<class 'int'>\n"
          ]
        }
      ],
      "source": [
        "#Conversao de String (texto) para Número (Inteiro)\n",
        "\n",
        "n1 = int(input(\"Digite um número:\"))\n",
        "n2 = int(input(\"Digite outro número:\"))\n",
        "\n",
        "n3 = input(\"digite um numero\")\n",
        "n3 = int(n3)\n",
        "\n",
        "print(type(n1))\n",
        "print(type(n2))\n",
        "print(type(n3))"
      ]
    },
    {
      "cell_type": "markdown",
      "metadata": {
        "id": "wnpjWKfvJKpR"
      },
      "source": [
        "**Outros exemplos de conversão int, float, str**"
      ]
    },
    {
      "cell_type": "code",
      "execution_count": 15,
      "metadata": {
        "colab": {
          "base_uri": "https://localhost:8080/"
        },
        "id": "JLs72-yNPcik",
        "outputId": "9c202b07-b5d1-42a5-a57c-8960b6d8c063"
      },
      "outputs": [
        {
          "name": "stdout",
          "output_type": "stream",
          "text": [
            "89.777777\n",
            "<class 'int'>\n",
            "89\n",
            "89.78\n"
          ]
        }
      ],
      "source": [
        "num = 89.777777\n",
        "\n",
        "print(num)\n",
        "valor1 = int(num) #conversão float para inteiro\n",
        "print(type(valor1))\n",
        "print(valor1)\n",
        "print(round(num,2))"
      ]
    },
    {
      "cell_type": "code",
      "execution_count": 16,
      "metadata": {
        "colab": {
          "base_uri": "https://localhost:8080/"
        },
        "id": "PoHWPxqxSQvu",
        "outputId": "e846290d-62c8-43d1-b5e2-553136b22455"
      },
      "outputs": [
        {
          "name": "stdout",
          "output_type": "stream",
          "text": [
            "<class 'float'>\n",
            "12.0\n"
          ]
        }
      ],
      "source": [
        "valor2 = float(12) #conversao inteiro para float\n",
        "print(type(valor2))\n",
        "print(valor2)\n"
      ]
    },
    {
      "cell_type": "code",
      "execution_count": 17,
      "metadata": {
        "colab": {
          "base_uri": "https://localhost:8080/"
        },
        "id": "IUwZVAhiQlR8",
        "outputId": "0b3a9b81-1bd5-4d6e-c9ff-6d9dc8615a48"
      },
      "outputs": [
        {
          "name": "stdout",
          "output_type": "stream",
          "text": [
            "<class 'str'>\n",
            "<class 'float'>\n",
            "<class 'int'>\n"
          ]
        },
        {
          "data": {
            "text/plain": [
              "146.45"
            ]
          },
          "execution_count": 17,
          "metadata": {},
          "output_type": "execute_result"
        }
      ],
      "source": [
        "print(type(\"123.45\"))\n",
        "valor3 = float(\"123.45\") #conversão str para float\n",
        "print(type(valor3))\n",
        "\n",
        "valor3i = int(\"23\") #conversão str para int\n",
        "print(type(valor3i))\n",
        "\n",
        "resultado = valor3 + valor3i\n",
        "resultado"
      ]
    },
    {
      "cell_type": "code",
      "execution_count": 18,
      "metadata": {
        "colab": {
          "base_uri": "https://localhost:8080/"
        },
        "id": "jXVtVSxbcIoq",
        "outputId": "fb33fcd1-cf61-46cc-8bd0-2507814b6739"
      },
      "outputs": [
        {
          "name": "stdout",
          "output_type": "stream",
          "text": [
            "<class 'str'>\n",
            "<class 'str'>\n",
            "12.54.67\n"
          ]
        }
      ],
      "source": [
        "valor4 = str(12.5)    #conversao float para str\n",
        "print(type(valor4))\n",
        "\n",
        "valor5 = str(4.67)       #conversao inteiro para str\n",
        "print(type(valor5))\n",
        "print(valor4+valor5)"
      ]
    },
    {
      "cell_type": "markdown",
      "metadata": {
        "id": "x69qTVbQfxfZ"
      },
      "source": [
        "**Formatações Exibição**"
      ]
    },
    {
      "cell_type": "code",
      "execution_count": 20,
      "metadata": {
        "id": "6imeFreGdvpq"
      },
      "outputs": [
        {
          "name": "stdout",
          "output_type": "stream",
          "text": [
            "<class 'str'>\n",
            "INTRODUÇÃO A PYTHON ana\n"
          ]
        }
      ],
      "source": [
        "meu_curso = \"Introdução a pythOn\"\n",
        "meu_login = 'ANA'\n",
        "\n",
        "print(type(meu_login))\n",
        "\n",
        "print(meu_curso.upper(), meu_login.lower()) #upper - maiúsculo e lower - minúsculo"
      ]
    },
    {
      "cell_type": "code",
      "execution_count": 22,
      "metadata": {
        "colab": {
          "base_uri": "https://localhost:8080/",
          "height": 35
        },
        "id": "rbO77XWiJRaR",
        "outputId": "3c3627ef-8c4a-456a-b0a0-6f5c95e7e047"
      },
      "outputs": [
        {
          "data": {
            "text/plain": [
              "'Linguagem python'"
            ]
          },
          "execution_count": 22,
          "metadata": {},
          "output_type": "execute_result"
        }
      ],
      "source": [
        "titulo = 'linguagem python'\n",
        "titulo.capitalize()"
      ]
    },
    {
      "cell_type": "code",
      "execution_count": 23,
      "metadata": {
        "colab": {
          "base_uri": "https://localhost:8080/",
          "height": 35
        },
        "id": "yUs6VYOQKIhY",
        "outputId": "0df689fc-90bb-450d-b407-f3b9613829bd"
      },
      "outputs": [
        {
          "data": {
            "text/plain": [
              "'Apostila De Python'"
            ]
          },
          "execution_count": 23,
          "metadata": {},
          "output_type": "execute_result"
        }
      ],
      "source": [
        "frase = \"apostila de python\"\n",
        "frase.title()"
      ]
    },
    {
      "cell_type": "markdown",
      "metadata": {
        "id": "JAXevexULR7q"
      },
      "source": [
        "**Format() e % e f**"
      ]
    },
    {
      "cell_type": "code",
      "execution_count": 24,
      "metadata": {
        "colab": {
          "base_uri": "https://localhost:8080/"
        },
        "id": "nVmljuTuLTAo",
        "outputId": "8a1b1751-6109-47b4-a89a-409e7fee90ad"
      },
      "outputs": [
        {
          "name": "stdout",
          "output_type": "stream",
          "text": [
            "Olho para o  céu e vejo nuvens e também o  sol\n",
            "Olho para o sol e vejo nuvens e também o céu\n",
            "Olho para o céu e vejo nuvens e também o sol\n",
            "Olho para o sol e vejo nuvens e também o céu\n"
          ]
        }
      ],
      "source": [
        "a = 'céu'\n",
        "b = 'nuvens'\n",
        "c = 'sol'\n",
        "d= 'dsad'\n",
        "\n",
        "print('Olho para o ',a, 'e vejo', b, 'e também o ',c)\n",
        "print('Olho para o {} e vejo {} e também o {}'.format(c, b,a))\n",
        "print(f'Olho para o {a} e vejo {b} e também o {c}')\n",
        "print('Olho para o {troca3} e vejo {troca2} e também o {troca1}'.format(troca1= a, troca2= b,troca3=c))"
      ]
    },
    {
      "cell_type": "code",
      "execution_count": 25,
      "metadata": {
        "colab": {
          "base_uri": "https://localhost:8080/"
        },
        "id": "B2tMbazWMBdY",
        "outputId": "9cef31e7-155e-4c56-a571-f431e61aa558"
      },
      "outputs": [
        {
          "name": "stdout",
          "output_type": "stream",
          "text": [
            "O record dos 100.0 metros foi batido, com 2.5 segundos abaixo do antigo record\n"
          ]
        }
      ],
      "source": [
        "n1 = 100.0\n",
        "n2 = 2.5\n",
        "\n",
        "print('O record dos {} metros foi batido, com {} segundos abaixo do antigo record'.format(n1, n2))\n"
      ]
    },
    {
      "cell_type": "code",
      "execution_count": 26,
      "metadata": {
        "colab": {
          "base_uri": "https://localhost:8080/"
        },
        "id": "hMEQQ1ahNI3o",
        "outputId": "f2fca1be-2b9d-4ce2-8f3d-93157c653f72"
      },
      "outputs": [
        {
          "name": "stdout",
          "output_type": "stream",
          "text": [
            "As cores básicas são: vermelho, verde e azul\n"
          ]
        }
      ],
      "source": [
        "r = \"vermelho\"\n",
        "g = \"verde\"\n",
        "b = \"azul\"\n",
        "\n",
        "print(\"As cores básicas são: %s, %s e %s\" % (r, g, b))"
      ]
    },
    {
      "cell_type": "code",
      "execution_count": 27,
      "metadata": {
        "colab": {
          "base_uri": "https://localhost:8080/"
        },
        "id": "vIkhRJl1p7Yj",
        "outputId": "db6a0700-1cdc-47cc-ec90-d7c774c865fb"
      },
      "outputs": [
        {
          "name": "stdout",
          "output_type": "stream",
          "text": [
            "O valor do ingresso é 120.120000 e a taxa de emissão é 5.500000\n"
          ]
        }
      ],
      "source": [
        "taxa = 5.5\n",
        "ingresso = 120.12\n",
        "\n",
        "print('O valor do ingresso é %f e a taxa de emissão é %f' % (ingresso, taxa))"
      ]
    },
    {
      "cell_type": "code",
      "execution_count": 28,
      "metadata": {
        "colab": {
          "base_uri": "https://localhost:8080/"
        },
        "id": "XgPKB__AM3NS",
        "outputId": "5298b887-a7be-4180-d9c7-9600a3c3c6b2"
      },
      "outputs": [
        {
          "name": "stdout",
          "output_type": "stream",
          "text": [
            "5.50\n",
            "120.120\n"
          ]
        }
      ],
      "source": [
        "print(\"%.2f\" % taxa) #Float duas casas decimais\n",
        "print(\"%.3f\" % ingresso) #Float três casas decimais"
      ]
    },
    {
      "cell_type": "code",
      "execution_count": 29,
      "metadata": {
        "colab": {
          "base_uri": "https://localhost:8080/"
        },
        "id": "d4Qfd2K2rOUj",
        "outputId": "40376a1f-e362-4d63-8b83-d71f06a6a490"
      },
      "outputs": [
        {
          "name": "stdout",
          "output_type": "stream",
          "text": [
            "A nome cidade é São Paulo.\n"
          ]
        }
      ],
      "source": [
        "cidade = \"São Paulo\"\n",
        "print(f\"A nome cidade é {cidade}.\")"
      ]
    },
    {
      "cell_type": "code",
      "execution_count": 30,
      "metadata": {
        "colab": {
          "base_uri": "https://localhost:8080/"
        },
        "id": "He1kfqAOrfNF",
        "outputId": "9ff68c49-54f9-48bb-9b1b-24ea72fe33d7"
      },
      "outputs": [
        {
          "name": "stdout",
          "output_type": "stream",
          "text": [
            "A idade de Ana é 33.5.\n"
          ]
        }
      ],
      "source": [
        "idade = 33.5\n",
        "nome = \"Ana\"\n",
        "print(f\"A idade de {nome} é {idade}.\")"
      ]
    },
    {
      "cell_type": "markdown",
      "metadata": {
        "id": "HCr39k-hUiAj"
      },
      "source": [
        "## Variável booleana"
      ]
    },
    {
      "cell_type": "code",
      "execution_count": 31,
      "metadata": {
        "colab": {
          "base_uri": "https://localhost:8080/"
        },
        "id": "Ym6xodwFRrUo",
        "outputId": "f015bd8a-1dd1-4c8b-afc8-6135379ef033"
      },
      "outputs": [
        {
          "name": "stdout",
          "output_type": "stream",
          "text": [
            "<class 'bool'> <class 'bool'>\n"
          ]
        }
      ],
      "source": [
        "# Trabalhando com o tipo booleano (True / False)\n",
        "varbol_0 = False # 0\n",
        "varbol_1 = True # 1\n",
        "\n",
        "print(type(varbol_0), type(varbol_1))"
      ]
    },
    {
      "cell_type": "code",
      "execution_count": 32,
      "metadata": {
        "colab": {
          "base_uri": "https://localhost:8080/"
        },
        "id": "aN4ZpflxR40P",
        "outputId": "2bffddf9-b82a-4d99-dfd4-abde0c88e827"
      },
      "outputs": [
        {
          "name": "stdout",
          "output_type": "stream",
          "text": [
            "Valor 1 é igual a:  True\n",
            "Valor 0 é igual a:  False\n",
            "<class 'bool'>\n"
          ]
        }
      ],
      "source": [
        "verdadeiro = bool(1)\n",
        "falso = bool(0)\n",
        "\n",
        "print(\"Valor 1 é igual a: \", verdadeiro)\n",
        "print(\"Valor 0 é igual a: \", falso)\n",
        "\n",
        "print(type(verdadeiro))"
      ]
    },
    {
      "cell_type": "markdown",
      "metadata": {
        "id": "M8RdeWXrXVep"
      },
      "source": [
        "**Operadores Aritméticos e Expressões**"
      ]
    },
    {
      "cell_type": "code",
      "execution_count": 33,
      "metadata": {
        "colab": {
          "base_uri": "https://localhost:8080/"
        },
        "id": "vH5sykv2XXQ1",
        "outputId": "23319b44-2d61-4db2-eb5c-b6b18dc90558"
      },
      "outputs": [
        {
          "name": "stdout",
          "output_type": "stream",
          "text": [
            "a + b = 14.25\n",
            "a - b = 9.75\n",
            "a * b = 27.0\n",
            "a / b = 5.333333333333333\n",
            "a // b = 5.0\n",
            "a ** 2 = 144\n",
            "resto da divisão de a por b = 0.75\n",
            "12.69140625\n"
          ]
        }
      ],
      "source": [
        "a = 12\n",
        "b = 2.25\n",
        "c = 4\n",
        "\n",
        "soma = a + b\n",
        "sub = a - b\n",
        "mul = a * b\n",
        "div = a / b\n",
        "div2 = a // b\n",
        "exp = a ** 2\n",
        "resto = a % b\n",
        "expressao = ((a + b) / c) ** 2\n",
        "\n",
        "print(\"a + b =\", soma)\n",
        "print(\"a - b =\", sub)\n",
        "print(\"a * b =\", mul)\n",
        "print(\"a / b =\", div)\n",
        "print(\"a // b =\", div2)\n",
        "print(\"a ** 2 =\", exp)\n",
        "print(\"resto da divisão de a por b =\", resto)\n",
        "print(expressao)"
      ]
    },
    {
      "cell_type": "code",
      "execution_count": 34,
      "metadata": {
        "colab": {
          "base_uri": "https://localhost:8080/"
        },
        "id": "z3jkR_cZQWms",
        "outputId": "2428b1da-7f50-4d7f-a261-6d2873f0a7c9"
      },
      "outputs": [
        {
          "name": "stdout",
          "output_type": "stream",
          "text": [
            "palavra1palavra2palavra3\n"
          ]
        }
      ],
      "source": [
        "#concatenação\n",
        "a = \"palavra1\"\n",
        "b = \"palavra2\"\n",
        "c = a + b + \"palavra3\"\n",
        "\n",
        "print(c)"
      ]
    },
    {
      "cell_type": "markdown",
      "metadata": {
        "id": "NAGk8pQwSfER"
      },
      "source": [
        "**Atribuição aumentada**"
      ]
    },
    {
      "cell_type": "code",
      "execution_count": 35,
      "metadata": {
        "colab": {
          "base_uri": "https://localhost:8080/"
        },
        "id": "o0L1Os1vSmFM",
        "outputId": "d7cd6664-61fd-4e1b-cdbe-bed79e90686a"
      },
      "outputs": [
        {
          "name": "stdout",
          "output_type": "stream",
          "text": [
            "10\n",
            "20\n",
            "30\n",
            "40\n"
          ]
        }
      ],
      "source": [
        "a = 10\n",
        "print(a)\n",
        "\n",
        "# a=a+10\n",
        "a += 10  # o mesmo que a = a + 10\n",
        "print(a)\n",
        "\n",
        "a += 10  # o mesmo que a = a + 10\n",
        "print(a)\n",
        "\n",
        "a += 10  # o mesmo que a = a + 10\n",
        "print(a)"
      ]
    },
    {
      "cell_type": "markdown",
      "metadata": {
        "id": "kG8V3U62Zdqi"
      },
      "source": [
        "**Operadores Relacionais**\n"
      ]
    },
    {
      "cell_type": "code",
      "execution_count": 36,
      "metadata": {
        "colab": {
          "base_uri": "https://localhost:8080/"
        },
        "id": "vKpQD2NuZhiw",
        "outputId": "e5abad78-e231-4c71-fd6a-3dcb994aebb1"
      },
      "outputs": [
        {
          "name": "stdout",
          "output_type": "stream",
          "text": [
            "False\n",
            "a > b False\n",
            "False\n",
            "True\n",
            "True\n",
            "False\n",
            "True\n"
          ]
        }
      ],
      "source": [
        "a = 3\n",
        "b = 5\n",
        "\n",
        "print( a > b ) #verifica se a é maior que b\n",
        "\n",
        "result = a > b\n",
        "print(\"a > b\", result)\n",
        "\n",
        "print( a == b ) #verifica se a é igual b\n",
        "print( a != b ) #verifica se a é diferente que b\n",
        "print( a < b ) #verifica se a é menor que b\n",
        "print( a >= b ) #verifica se a é maior ou igual  b\n",
        "print( a <= b ) #verifica se a é menor ou igual b\n"
      ]
    },
    {
      "cell_type": "markdown",
      "metadata": {
        "id": "U8uL5egCahW3"
      },
      "source": [
        "**Operadores lógicos (and (e), or (ou) e not (não))**"
      ]
    },
    {
      "cell_type": "code",
      "execution_count": 37,
      "metadata": {
        "colab": {
          "base_uri": "https://localhost:8080/"
        },
        "id": "NAR-CSiXL3YG",
        "outputId": "7611796a-244b-49a2-c60a-7e8531289e95"
      },
      "outputs": [
        {
          "data": {
            "text/plain": [
              "True"
            ]
          },
          "execution_count": 37,
          "metadata": {},
          "output_type": "execute_result"
        }
      ],
      "source": [
        "not False\n"
      ]
    },
    {
      "cell_type": "code",
      "execution_count": null,
      "metadata": {
        "colab": {
          "base_uri": "https://localhost:8080/"
        },
        "id": "g4MnXc_xai79",
        "outputId": "a0b72cf6-a453-4495-fb41-5819885d35b8"
      },
      "outputs": [
        {
          "name": "stdout",
          "output_type": "stream",
          "text": [
            "True\n"
          ]
        }
      ],
      "source": [
        "a = True\n",
        "b = True\n",
        "c = True\n",
        "\n",
        "result_and = a and b and c and (3 < 5)\n",
        "\n",
        "print(result_and)"
      ]
    },
    {
      "cell_type": "code",
      "execution_count": 38,
      "metadata": {
        "colab": {
          "base_uri": "https://localhost:8080/"
        },
        "id": "hMTk7Rk7b4wp",
        "outputId": "62eb06d3-d197-4f7a-b9d5-98048a12807d"
      },
      "outputs": [
        {
          "name": "stdout",
          "output_type": "stream",
          "text": [
            "False\n"
          ]
        }
      ],
      "source": [
        "m = False\n",
        "n = False\n",
        "r = False\n",
        "\n",
        "result_or = m or n or r\n",
        "\n",
        "print(result_or)"
      ]
    },
    {
      "cell_type": "code",
      "execution_count": 39,
      "metadata": {
        "colab": {
          "base_uri": "https://localhost:8080/"
        },
        "id": "30B76bPJc8zw",
        "outputId": "b4930720-7962-4d5d-a328-2ce5e961185f"
      },
      "outputs": [
        {
          "name": "stdout",
          "output_type": "stream",
          "text": [
            "False\n"
          ]
        }
      ],
      "source": [
        "resultado = (3 < 5) and (10 < 4) and (6 > 4)\n",
        "\n",
        "print(resultado)"
      ]
    },
    {
      "cell_type": "code",
      "execution_count": 40,
      "metadata": {
        "colab": {
          "base_uri": "https://localhost:8080/"
        },
        "id": "YKaeGCRWcE-t",
        "outputId": "7de9709e-69c9-4764-cb3b-5d0cb73bf690"
      },
      "outputs": [
        {
          "name": "stdout",
          "output_type": "stream",
          "text": [
            "True\n"
          ]
        }
      ],
      "source": [
        "v = False\n",
        "\n",
        "f = not v   #negação - inversão do valor lógico\n",
        "print(f)"
      ]
    },
    {
      "cell_type": "markdown",
      "metadata": {
        "id": "CDOR4sxXdjLx"
      },
      "source": [
        "# **3.6 EXERCÍCIOS**"
      ]
    },
    {
      "cell_type": "markdown",
      "metadata": {
        "id": "Pms2nmeIgLdZ"
      },
      "source": [
        "1. Escreva um programa em Python que solicita ao usuário que digite seu nome, e em seguida armazena em uma variável o que foi digitado, exibindo uma mensagem de boas vindas na tela.\n"
      ]
    },
    {
      "cell_type": "code",
      "execution_count": null,
      "metadata": {
        "id": "WyrIiQDGgNPd"
      },
      "outputs": [],
      "source": [
        "#escreva seu código aqui\n",
        "\n",
        "\n"
      ]
    },
    {
      "cell_type": "markdown",
      "metadata": {
        "id": "wdR6hpiHgNjC"
      },
      "source": [
        "2. Escreva um programa em Python que recebe dois números e mostra o resultado da soma e a diferença entre os dois."
      ]
    },
    {
      "cell_type": "code",
      "execution_count": null,
      "metadata": {
        "id": "1KWkTfNwgOIP"
      },
      "outputs": [],
      "source": [
        "#escreva seu código aqui\n",
        "\n"
      ]
    },
    {
      "cell_type": "markdown",
      "metadata": {
        "id": "bOkWpJoPdmUt"
      },
      "source": [
        "3. Armazene três números nas variáveis “a”, “b” e “c”, realize as operações solicitadas e armazene o resultado na variável \"r\". Exiba na tela o resultado de cada uma das operações realizadas:\n",
        "\n",
        "\n",
        "*  r = a + b - c\n",
        "*  r = a * (b + c)\n",
        "*  r = (a + b) / c\n",
        "*  r = (a + b + c) / 3"
      ]
    },
    {
      "cell_type": "code",
      "execution_count": null,
      "metadata": {
        "id": "3BCXnLa5dqh4"
      },
      "outputs": [],
      "source": [
        "#escreva seu código aqui\n",
        "\n"
      ]
    },
    {
      "cell_type": "markdown",
      "metadata": {
        "id": "vlqoOOFweCY8"
      },
      "source": [
        "4. Utilize os valores de n1 = 2, n2 = 3, n3 = -1 e n4 = 8 e imprima na tela o resultado das expressões lógicas a seguir (True ou False).\n",
        "\n",
        "*   n1 < n3\n",
        "*   n3 == n4\n",
        "*   n1 + n2 > n3\n",
        "*   n3 / n1 < n4\n",
        "*   n1 + n2 < 10 and n3 - n4 == n1\n",
        "*   n3 / n2 > 0 or n1 + n3 > n4\n",
        "\n"
      ]
    },
    {
      "cell_type": "code",
      "execution_count": null,
      "metadata": {
        "id": "XuivdSgaeT4I"
      },
      "outputs": [],
      "source": [
        "#escreva seu código aqui\n",
        "\n"
      ]
    }
  ],
  "metadata": {
    "colab": {
      "collapsed_sections": [
        "CDOR4sxXdjLx"
      ],
      "provenance": []
    },
    "kernelspec": {
      "display_name": "env_aula1",
      "language": "python",
      "name": "python3"
    },
    "language_info": {
      "codemirror_mode": {
        "name": "ipython",
        "version": 3
      },
      "file_extension": ".py",
      "mimetype": "text/x-python",
      "name": "python",
      "nbconvert_exporter": "python",
      "pygments_lexer": "ipython3",
      "version": "3.12.9"
    }
  },
  "nbformat": 4,
  "nbformat_minor": 0
}
